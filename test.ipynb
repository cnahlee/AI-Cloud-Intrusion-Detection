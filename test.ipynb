{
 "cells": [
  {
   "cell_type": "code",
   "execution_count": 9,
   "id": "43c7e9df-f94d-4f82-93bd-d00737aa7f63",
   "metadata": {},
   "outputs": [
    {
     "name": "stdout",
     "output_type": "stream",
     "text": [
      "First 5 rows of the dataset:\n",
      "   Destination Port  Flow Duration  Total Fwd Packets  Total Backward Packets  \\\n",
      "0             54865              3                  2                       0   \n",
      "1             55054            109                  1                       1   \n",
      "2             55055             52                  1                       1   \n",
      "3             46236             34                  1                       1   \n",
      "4             54863              3                  2                       0   \n",
      "\n",
      "   Total Length of Fwd Packets  Total Length of Bwd Packets  \\\n",
      "0                           12                            0   \n",
      "1                            6                            6   \n",
      "2                            6                            6   \n",
      "3                            6                            6   \n",
      "4                           12                            0   \n",
      "\n",
      "   Fwd Packet Length Max  Fwd Packet Length Min  Fwd Packet Length Mean  \\\n",
      "0                      6                      6                     6.0   \n",
      "1                      6                      6                     6.0   \n",
      "2                      6                      6                     6.0   \n",
      "3                      6                      6                     6.0   \n",
      "4                      6                      6                     6.0   \n",
      "\n",
      "   Fwd Packet Length Std  ...  min_seg_size_forward  Active Mean  Active Std  \\\n",
      "0                    0.0  ...                    20          0.0         0.0   \n",
      "1                    0.0  ...                    20          0.0         0.0   \n",
      "2                    0.0  ...                    20          0.0         0.0   \n",
      "3                    0.0  ...                    20          0.0         0.0   \n",
      "4                    0.0  ...                    20          0.0         0.0   \n",
      "\n",
      "   Active Max  Active Min  Idle Mean  Idle Std  Idle Max  Idle Min   Label  \n",
      "0           0           0        0.0       0.0         0         0  BENIGN  \n",
      "1           0           0        0.0       0.0         0         0  BENIGN  \n",
      "2           0           0        0.0       0.0         0         0  BENIGN  \n",
      "3           0           0        0.0       0.0         0         0  BENIGN  \n",
      "4           0           0        0.0       0.0         0         0  BENIGN  \n",
      "\n",
      "[5 rows x 79 columns]\n",
      "\n",
      "Training the Machine Learning model...\n",
      "\n",
      "Model Accuracy: 99.99%\n",
      "\n",
      "Classification Report:\n",
      "              precision    recall  f1-score   support\n",
      "\n",
      "           0       1.00      1.00      1.00     19405\n",
      "           1       1.00      1.00      1.00     25744\n",
      "\n",
      "    accuracy                           1.00     45149\n",
      "   macro avg       1.00      1.00      1.00     45149\n",
      "weighted avg       1.00      1.00      1.00     45149\n",
      "\n"
     ]
    },
    {
     "data": {
      "image/png": "[encoded data removed]",
      "text/plain": [
       "<Figure size 800x600 with 2 Axes>"
      ]
     },
     "metadata": {},
     "output_type": "display_data"
    },
    {
     "name": "stdout",
     "output_type": "stream",
     "text": [
      "\n",
      "Model saved as 'ids_model.pkl'.\n",
      "\n",
      "Model loaded successfully!\n"
     ]
    }
   ],
   "source": [
    "\n",
    "import pandas as pd\n",
    "import numpy as np\n",
    "import matplotlib.pyplot as plt\n",
    "import seaborn as sns\n",
    "from sklearn.model_selection import train_test_split\n",
    "from sklearn.ensemble import RandomForestClassifier\n",
    "from sklearn.preprocessing import StandardScaler\n",
    "from sklearn.metrics import accuracy_score, classification_report, confusion_matrix\n",
    "import joblib\n",
    "\n",
    "\n",
    "df = pd.read_csv(\"data2.csv\")\n",
    "\n",
    "\n",
    "df.columns = df.columns.str.strip()\n",
    "\n",
    "\n",
    "df.replace([np.inf, -np.inf], np.nan, inplace=True)\n",
    "\n",
    "\n",
    "df.fillna(df.median(numeric_only=True), inplace=True)\n",
    "\n",
    "print(\"First 5 rows of the dataset:\")\n",
    "print(df.head())\n",
    "\n",
    "\n",
    "df['Label'] = df['Label'].astype('category').cat.codes  \n",
    "\n",
    "X = df.drop(columns=['Label'])  # Features\n",
    "y = df['Label']  # Target (attack or normal)\n",
    "\n",
    "scaler = StandardScaler()\n",
    "X_scaled = scaler.fit_transform(X)\n",
    "\n",
    "X_train, X_test, y_train, y_test = train_test_split(X_scaled, y, test_size=0.2, random_state=42)\n",
    "\n",
    "print(\"\\nTraining the Machine Learning model...\")\n",
    "\n",
    "\n",
    "clf = RandomForestClassifier(n_estimators=100, random_state=42)\n",
    "clf.fit(X_train, y_train)\n",
    "\n",
    "y_pred = clf.predict(X_test)\n",
    "\n",
    "\n",
    "accuracy = accuracy_score(y_test, y_pred)\n",
    "print(f\"\\nModel Accuracy: {accuracy * 100:.2f}%\")\n",
    "\n",
    "# Display classification report\n",
    "print(\"\\nClassification Report:\")\n",
    "print(classification_report(y_test, y_pred))\n",
    "\n",
    "# Confusion matrix visualization\n",
    "plt.figure(figsize=(8, 6))\n",
    "sns.heatmap(confusion_matrix(y_test, y_pred), annot=True, fmt='d', cmap='Blues')\n",
    "plt.xlabel(\"Predicted\")\n",
    "plt.ylabel(\"Actual\")\n",
    "plt.title(\"Confusion Matrix\")\n",
    "plt.show()\n",
    "\n",
    "\n",
    "joblib.dump(clf, \"ids_model.pkl\")\n",
    "print(\"\\nModel saved as 'ids_model.pkl'.\")\n",
    "\n",
    "joblib.dump(scaler, \"scaler.pkl\")\n",
    "\n",
    "\n",
    "clf_loaded = joblib.load(\"ids_model.pkl\")\n",
    "print(\"\\nModel loaded successfully!\")\n"
   ]
  },
  {
   "cell_type": "code",
   "execution_count": 10,
   "id": "a374a2ac-2904-452f-99ac-82ec4268e33c",
   "metadata": {},
   "outputs": [],
   "source": [
    "y_pred = clf.predict(X_test)\n"
   ]
  },
  {
   "cell_type": "code",
   "execution_count": 11,
   "id": "509c5ad8-5c04-48c2-b043-9459d2f6d1c9",
   "metadata": {},
   "outputs": [
    {
     "name": "stdout",
     "output_type": "stream",
     "text": [
      "Model Accuracy: 99.99%\n",
      "              precision    recall  f1-score   support\n",
      "\n",
      "           0       1.00      1.00      1.00     19405\n",
      "           1       1.00      1.00      1.00     25744\n",
      "\n",
      "    accuracy                           1.00     45149\n",
      "   macro avg       1.00      1.00      1.00     45149\n",
      "weighted avg       1.00      1.00      1.00     45149\n",
      "\n"
     ]
    }
   ],
   "source": [
    "from sklearn.metrics import accuracy_score\n",
    "\n",
    "accuracy = accuracy_score(y_test, y_pred)\n",
    "print(f\"Model Accuracy: {accuracy * 100:.2f}%\")\n",
    "from sklearn.metrics import classification_report\n",
    "\n",
    "print(classification_report(y_test, y_pred))\n",
    "\n"
   ]
  },
  {
   "cell_type": "code",
   "execution_count": null,
   "id": "942e783d-c030-47a5-8907-9b68747f7ba9",
   "metadata": {},
   "outputs": [],
   "source": []
  }
 ],
 "metadata": {
  "kernelspec": {
   "display_name": "Python 3 (ipykernel)",
   "language": "python",
   "name": "python3"
  },
  "language_info": {
   "codemirror_mode": {
    "name": "ipython",
    "version": 3
   },
   "file_extension": ".py",
   "mimetype": "text/x-python",
   "name": "python",
   "nbconvert_exporter": "python",
   "pygments_lexer": "ipython3",
   "version": "3.9.21"
  }
 },
 "nbformat": 4,
 "nbformat_minor": 5
}
